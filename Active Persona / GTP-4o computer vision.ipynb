{
 "cells": [
  {
   "cell_type": "code",
   "execution_count": 44,
   "id": "8f58ac42-2f5d-4b94-97b8-1c9b77a2f951",
   "metadata": {},
   "outputs": [],
   "source": [
    "import os\n",
    "import time\n",
    "import base64\n",
    "from openai import OpenAI"
   ]
  },
  {
   "cell_type": "code",
   "execution_count": 46,
   "id": "78708193-c7f0-4e9e-aa66-6e5fbef71740",
   "metadata": {},
   "outputs": [],
   "source": [
    "API_KEY = \"sk-proj-E1_iQA\" #Provide your own KEY"
   ]
  },
  {
   "cell_type": "code",
   "execution_count": 48,
   "id": "6af10726-6067-4759-9d42-1aeb9464bcf5",
   "metadata": {
    "scrolled": true
   },
   "outputs": [
    {
     "name": "stdout",
     "output_type": "stream",
     "text": [
      "Processing ./Bitwarden Photos/case 2/password comparison.png...\n",
      "\n",
      " TASK COMPLETED:\n",
      "Detailed feedback saved as: detailed_feedback.md\n",
      "Saved as: final_user_review.md\n",
      "Total Execution Time: 26.35 seconds\n"
     ]
    }
   ],
   "source": [
    "IMAGE_DIR = './Bitwarden Photos/case 2' #your path to your screenshot to analyze\n",
    "image_files = sorted([\n",
    "    os.path.join(IMAGE_DIR, f)\n",
    "    for f in os.listdir(IMAGE_DIR)\n",
    "    if f.lower().endswith(('.png', '.jpg', '.jpeg', '.bmp', '.gif'))\n",
    "])\n",
    "\n",
    "client = OpenAI(api_key=API_KEY)\n",
    "\n",
    "\n",
    "def encode_image_to_base64(image_path):\n",
    "    with open(image_path, \"rb\") as image_file:\n",
    "        return base64.b64encode(image_file.read()).decode(\"utf-8\")\n",
    "\n",
    "\n",
    "# Load your persona from a text file\n",
    "with open(\"PersonaA.txt\", \"r\", encoding=\"utf-8\") as persona_file:\n",
    "    ux_persona = persona_file.read()\n",
    "\n",
    "all_detailed_reviews = []\n",
    "start_timer = time.time()\n",
    "\n",
    "# === Step 1: Detailed Analysis Per Screenshot ===\n",
    "for image_path in image_files:\n",
    "    print(f\"Processing {image_path}...\")\n",
    "\n",
    "    image_base64 = encode_image_to_base64(image_path)\n",
    "\n",
    "    detailed_prompt = f\"\"\"\n",
    "You are {ux_persona}.\n",
    "\n",
    "Please analyze the attached screenshot of the Bitwarden app’s, does the password match on all views ? \n",
    "\n",
    "Now analyze this screenshot:\n",
    "\"\"\"\n",
    "\n",
    "    response = client.chat.completions.create(\n",
    "        model=\"gpt-4o\",\n",
    "        messages=[\n",
    "            {\n",
    "                \"role\": \"user\",\n",
    "                \"content\": [\n",
    "                    {\"type\": \"text\", \"text\": detailed_prompt},\n",
    "                    {\"type\": \"image_url\", \"image_url\": {\"url\": f\"data:image/png;base64,{image_base64}\"}}\n",
    "                ]\n",
    "            }\n",
    "        ],\n",
    "        max_tokens=1000\n",
    "    )\n",
    "\n",
    "    review = f\"Screenshot: {os.path.basename(image_path)}\\n{response.choices[0].message.content}\\n{'-'*60}\\n\"\n",
    "    all_detailed_reviews.append(review)\n",
    "\n",
    "# Save Detailed Feedback into MD file\n",
    "detailed_report = \"# UX Review Report\\n\\n## Detailed Screenshot Reviews\\n\\n\"\n",
    "for review in all_detailed_reviews:\n",
    "    detailed_report += f\"{review}\\n\"\n",
    "\n",
    "with open(\"detailed_feedback.md\", \"w\", encoding=\"utf-8\") as file:\n",
    "    file.write(detailed_report)\n",
    "\n",
    "# Generate Final Summary Feedback that give an overview of all the feedback\n",
    "feedback_prompt = f\"\"\"\n",
    "{ux_persona}\n",
    "\n",
    "Based on the detailed  reviews provided in the report below, generate comprehensive user feedback.\n",
    "give me like an app review comment by sumurizing the detailed feedback, if the detailed_report include example put them in.\n",
    "\n",
    "Here is the detailed feedback for analysis:\n",
    "\n",
    "{detailed_report}\n",
    "\"\"\"\n",
    "\n",
    "feedback_response = client.chat.completions.create(\n",
    "    model=\"gpt-4o\",\n",
    "    messages=[{\"role\": \"user\", \"content\": feedback_prompt}],\n",
    "    max_tokens=1000\n",
    ")\n",
    "\n",
    "user_feedback = feedback_response.choices[0].message.content\n",
    "\n",
    "# Save final feedback to markdown\n",
    "with open(\"final_user_review.md\", \"w\", encoding=\"utf-8\") as file:\n",
    "    file.write(\"# Final User Review\\n\\n\")\n",
    "    file.write(user_feedback)\n",
    "\n",
    "end_timer = time.time()\n",
    "execution_time = end_timer - start_timer\n",
    "\n",
    "# === Final Execution Time ===\n",
    "print(\"\\n TASK COMPLETED:\")\n",
    "print(f\"Detailed feedback saved as: detailed_feedback.md\")\n",
    "print(f\"Saved as: final_user_review.md\")\n",
    "print(f\"Total Execution Time: {execution_time:.2f} seconds\")\n"
   ]
  },
  {
   "cell_type": "code",
   "execution_count": null,
   "id": "3ac1dd51-4f33-4667-aa2f-95ab0c9ec97e",
   "metadata": {},
   "outputs": [],
   "source": []
  }
 ],
 "metadata": {
  "kernelspec": {
   "display_name": "Python [conda env:base] *",
   "language": "python",
   "name": "conda-base-py"
  },
  "language_info": {
   "codemirror_mode": {
    "name": "ipython",
    "version": 3
   },
   "file_extension": ".py",
   "mimetype": "text/x-python",
   "name": "python",
   "nbconvert_exporter": "python",
   "pygments_lexer": "ipython3",
   "version": "3.12.2"
  }
 },
 "nbformat": 4,
 "nbformat_minor": 5
}
